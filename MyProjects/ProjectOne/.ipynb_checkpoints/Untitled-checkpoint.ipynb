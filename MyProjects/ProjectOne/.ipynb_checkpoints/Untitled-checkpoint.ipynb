{
 "cells": [
  {
   "cell_type": "code",
   "execution_count": null,
   "metadata": {},
   "outputs": [],
   "source": []
  },
  {
   "cell_type": "code",
   "execution_count": 63,
   "metadata": {},
   "outputs": [],
   "source": [
    "wholefoods_data = pd.read_csv('/Users/krishna/Documents/School/GeorgiaTech/HW/MyProjects/ProjectOne/Whole_Foods.csv')"
   ]
  },
  {
   "cell_type": "code",
   "execution_count": 64,
   "metadata": {},
   "outputs": [
    {
     "data": {
      "text/html": [
       "<div>\n",
       "<style scoped>\n",
       "    .dataframe tbody tr th:only-of-type {\n",
       "        vertical-align: middle;\n",
       "    }\n",
       "\n",
       "    .dataframe tbody tr th {\n",
       "        vertical-align: top;\n",
       "    }\n",
       "\n",
       "    .dataframe thead th {\n",
       "        text-align: right;\n",
       "    }\n",
       "</style>\n",
       "<table border=\"1\" class=\"dataframe\">\n",
       "  <thead>\n",
       "    <tr style=\"text-align: right;\">\n",
       "      <th></th>\n",
       "      <th>Longitude</th>\n",
       "      <th>Latitude</th>\n",
       "    </tr>\n",
       "  </thead>\n",
       "  <tbody>\n",
       "    <tr>\n",
       "      <th>0</th>\n",
       "      <td>-86.752554</td>\n",
       "      <td>33.460451</td>\n",
       "    </tr>\n",
       "    <tr>\n",
       "      <th>1</th>\n",
       "      <td>-86.590416</td>\n",
       "      <td>34.712443</td>\n",
       "    </tr>\n",
       "  </tbody>\n",
       "</table>\n",
       "</div>"
      ],
      "text/plain": [
       "   Longitude   Latitude\n",
       "0 -86.752554  33.460451\n",
       "1 -86.590416  34.712443"
      ]
     },
     "execution_count": 64,
     "metadata": {},
     "output_type": "execute_result"
    }
   ],
   "source": [
    "wholefoods_data.head(2)"
   ]
  },
  {
   "cell_type": "code",
   "execution_count": 65,
   "metadata": {},
   "outputs": [],
   "source": [
    "wholefoods_data_lat = wholefoods_data['Latitude']\n",
    "wholefoods_data_long = wholefoods_data['Longitude']"
   ]
  },
  {
   "cell_type": "code",
   "execution_count": 66,
   "metadata": {},
   "outputs": [],
   "source": [
    "real_wf_data_long = []\n",
    "real_wf_data_lat = []\n",
    "\n",
    "for i in range(len(wholefoods_data_lat)):\n",
    "    x = wholefoods_data_lat[i]\n",
    "    y = wholefoods_data_long[i]\n",
    "    \n",
    "    real_wf_data_lat.append(x)\n",
    "    real_wf_data_long.append(x)\n"
   ]
  },
  {
   "cell_type": "code",
   "execution_count": 103,
   "metadata": {},
   "outputs": [],
   "source": [
    "base_url = 'https://maps.googleapis.com/maps/api/geocode/json?'\n",
    "\n",
    "parameters = {\n",
    "    'latlng' : '-87.883706,43.060374',\n",
    "    'key' : key\n",
    "}\n",
    "\n",
    "res = requests.get(base_url, parameters)"
   ]
  },
  {
   "cell_type": "code",
   "execution_count": 104,
   "metadata": {},
   "outputs": [
    {
     "data": {
      "text/plain": [
       "{'plus_code': {'global_code': '2H454386+G4'},\n",
       " 'results': [{'address_components': [{'long_name': 'Antarctica',\n",
       "     'short_name': 'AQ',\n",
       "     'types': ['country', 'political']}],\n",
       "   'formatted_address': 'Antarctica',\n",
       "   'geometry': {'bounds': {'northeast': {'lat': -60.1086999, 'lng': 180},\n",
       "     'southwest': {'lat': -90, 'lng': -180}},\n",
       "    'location': {'lat': -75.250973, 'lng': -0.071389},\n",
       "    'location_type': 'APPROXIMATE',\n",
       "    'viewport': {'northeast': {'lat': -60.1086999, 'lng': 180},\n",
       "     'southwest': {'lat': -90, 'lng': -180}}},\n",
       "   'place_id': 'ChIJS3WQM3uWuaQRdSAPdB--Um4',\n",
       "   'types': ['country', 'political']}],\n",
       " 'status': 'OK'}"
      ]
     },
     "execution_count": 104,
     "metadata": {},
     "output_type": "execute_result"
    }
   ],
   "source": [
    "res.json()"
   ]
  },
  {
   "cell_type": "code",
   "execution_count": 102,
   "metadata": {},
   "outputs": [
    {
     "data": {
      "text/plain": [
       "'United States'"
      ]
     },
     "execution_count": 102,
     "metadata": {},
     "output_type": "execute_result"
    }
   ],
   "source": [
    "res.json()['results'][0]['address_components'][6]['long_name']"
   ]
  }
 ],
 "metadata": {
  "kernelspec": {
   "display_name": "Python 3",
   "language": "python",
   "name": "python3"
  },
  "language_info": {
   "codemirror_mode": {
    "name": "ipython",
    "version": 3
   },
   "file_extension": ".py",
   "mimetype": "text/x-python",
   "name": "python",
   "nbconvert_exporter": "python",
   "pygments_lexer": "ipython3",
   "version": "3.7.1"
  }
 },
 "nbformat": 4,
 "nbformat_minor": 2
}
